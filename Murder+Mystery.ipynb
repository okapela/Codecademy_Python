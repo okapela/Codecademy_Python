{
 "cells": [
  {
   "cell_type": "markdown",
   "metadata": {},
   "source": [
    "# Preamble: A Brand New Jay\n",
    "\n",
    "After an eventful season on season 8 of *A Brand New Jay*, the 3 remaining contestants were invited to Jay Stacksby's private island for the last three episodes. When the day of filming the finale came Mr. Stacksby was found with one of his Professional Series 8-inch Chef Knives plunged through his heart! After the initial investigation highlighted that the film crew all lived in a separate house on the other side of the island, it was concluded that only the three contestants were near enough to Stacksby in order to commit a crime. At the scene of the crime, a letter was left. Here are the contents of that letter:\n",
    "\n",
    "> You may call me heartless, a killer, a monster, a murderer, but I'm still NOTHING compared to the villian that Jay was. This whole contest was a sham, an elaborate plot to shame the contestants and feed Jay's massive, massive ego. SURE you think you know him! You've seen him smiling for the cameras, laughing, joking, telling stories, waving his money around like a prop but off camera he was a sinister beast, a cruel cruel taskmaster, he treated all of us like slaves, like cattle, like animals! Do you remember Lindsay, she was the first to go, he called her such horrible things that she cried all night, keeping up all up, crying, crying, and more crying, he broke her with his words. I miss my former cast members, all of them very much. And we had to live with him, live in his home, live in his power, deal with his crazy demands. AND FOR WHAT! DID YOU KNOW THAT THE PRIZE ISN'T REAL? He never intended to marry one of us! The carrot on the stick was gone, all that was left was stick, he told us last night that we were all a terrible terrible disappointment and none of us would ever amount to anything, and that regardless of who won the contest he would never speak to any of us again! It's definitely the things like this you can feel in your gut how wrong he is! Well I showed him, he got what he deserved all right, I showed him, I showed him the person I am! I wasn't going to be pushed around any longer, and I wasn't going to let him go on pretending that he was some saint when all he was was a sick sick twisted man who deserved every bit of what he got. The fans need to know, Jay Stacksby is a vile amalgamation of all things evil and bad and the world is a better place without him.\n",
    "\n",
    "Pretty sinister stuff! Luckily, in addition to this bold-faced admission, we have the introduction letters of the three contestants. Maybe there is a way to use this information to determine who the author of this murder letter is?\n",
    "\n",
    "Myrtle Beech's introduction letter:\n",
    "> Salutations. My name? Myrtle. Myrtle Beech. I am a woman of simple tastes. I enjoy reading, thinking, and doing my taxes. I entered this competition because I want a serious relationship. I want a commitment. The last man I dated was too whimsical. He wanted to go on dates that had no plan. No end goal. Sometimes we would just end up wandering the streets after dinner. He called it a \"walk\". A \"walk\" with no destination. Can you imagine? I like every action I take to have a measurable effect. When I see a movie, I like to walk away with insights that I did not have before. When I take a bike ride, there better be a worthy destination at the end of the bike path. Jay seems frivolous at times. This worries me. However, it is my staunch belief that one does not make and keep money without having a modicum of discipline. As such, I am hopeful. I will now list three things I cannot live without. Water. Emery boards. Dogs. Thank you for the opportunity to introduce myself. I look forward to the competition. \n",
    "\n",
    "Lily Trebuchet's introduction letter:\n",
    "> Hi, I'm Lily Trebuchet from East Egg, Long Island. I love cats, hiking, and curling up under a warm blanket with a book. So they gave this little questionnaire to use for our bios so lets get started. What are some of my least favorite household chores? Dishes, oh yes it's definitely the dishes, I just hate doing them, don't you? Who is your favorite actor and why? Hmm, that's a hard one, but I think recently I'll have to go with Michael B. Jordan, every bit of that man is handsome, HANDSOME! Do you remember seeing him shirtless? I can't believe what he does for the cameras! Okay okay next question, what is your perfect date? Well it starts with a nice dinner at a delicious but small restaurant, you know like one of those places where the owner is in the back and comes out to talk to you and ask you how your meal was. My favorite form of art? Another hard one, but I think I'll have to go with music, music you can feel in your whole body and it is electrifying and best of all, you can dance to it! Okay final question, let's see, What are three things you cannot live without? Well first off, my beautiful, beautiful cat Jerry, he is my heart and spirit animal. Second is pasta, definitely pasta, and the third I think is my family, I love all of them very much and they support me in everything I do. I know Jay Stacksby is a handsome man and all of us want to be the first to walk down the aisle with him, but I think he might truly be the one for me. Okay that's it for the bio, I hope you have fun watching the show! \n",
    "\n",
    "Gregg T Fishy's introduction letter:\n",
    "\n",
    "> A good day to you all, I am Gregg T Fishy, of the Fishy Enterprise fortune. I am 37 years young. An adventurous spirit and I've never lost my sense of childlike wonder. I do love to be in the backyard gardening and I have the most extraordinary time when I'm fishing. Fishing for what, you might ask? Why, fishing for compliments of course! I have a stunning pair of radiant blue eyes. They will pierce the soul of anyone who dare gaze upon my countenance. I quite enjoy going on long jaunts through garden paths and short walks through greenhouses. I hope that Jay will be as absolutely interesting as he appears on the television. I find that he has some of the most curious tastes in style and humor. When I'm out and about I quite enjoy hearing tales that instill in my heart of hearts the fascination that beguiles my every day life. Every fiber of my being scintillates and vascillates with extreme pleasure during one of these charming anecdotes and significantly pleases my beautiful personage. I cannot wait to enjoy being on A Brand New Jay. It certainly seems like a grand time to explore life and love."
   ]
  },
  {
   "cell_type": "markdown",
   "metadata": {},
   "source": [
    "## Saving The Different Examples as Variables\n",
    "\n",
    "First let's create variables to hold the text data in! Save the muder note as a string in a variable called `murder_note`. Save Lily Trebuchet's introduction into `lily_trebuchet_intro`. Save Myrtle Beech's introduction into `myrtle_beech_intro`. Save Gregg T Fishy's introduction into `gregg_t_fishy_intro`."
   ]
  },
  {
   "cell_type": "code",
   "execution_count": 112,
   "metadata": {},
   "outputs": [],
   "source": [
    "#Added \\ to lily_trebuchet text to prevent \"\" split.\n",
    "murder_note=\"You may call me heartless, a killer, a monster, a murderer, but I'm still NOTHING compared to the villian that Jay was. This whole contest was a sham, an elaborate plot to shame the contestants and feed Jay's massive, massive ego. SURE you think you know him! You've seen him smiling for the cameras, laughing, joking, telling stories, waving his money around like a prop but off camera he was a sinister beast, a cruel cruel taskmaster, he treated all of us like slaves, like cattle, like animals! Do you remember Lindsay, she was the first to go, he called her such horrible things that she cried all night, keeping up all up, crying, crying, and more crying, he broke her with his words. I miss my former cast members, all of them very much. And we had to live with him, live in his home, live in his power, deal with his crazy demands. AND FOR WHAT! DID YOU KNOW THAT THE PRIZE ISN'T REAL? He never intended to marry one of us! The carrot on the stick was gone, all that was left was stick, he told us last night that we were all a terrible terrible disappointment and none of us would ever amount to anything, and that regardless of who won the contest he would never speak to any of us again! It's definitely the things like this you can feel in your gut how wrong he is! Well I showed him, he got what he deserved all right, I showed him, I showed him the person I am! I wasn't going to be pushed around any longer, and I wasn't going to let him go on pretending that he was some saint when all he was was a sick sick twisted man who deserved every bit of what he got. The fans need to know, Jay Stacksby is a vile amalgamation of all things evil and bad and the world is a better place without him.\"\n",
    "\n",
    "myrtle_beech_intro=\"Salutations. My name? Myrtle. Myrtle Beech. I am a woman of simple tastes. I enjoy reading, thinking, and doing my taxes. I entered this competition because I want a serious relationship. I want a commitment. The last man I dated was too whimsical. He wanted to go on dates that had no plan. No end goal. Sometimes we would just end up wandering the streets after dinner. He called it a \\\"walk\\\". A \\\"walk\\\" with no destination. Can you imagine? I like every action I take to have a measurable effect. When I see a movie, I like to walk away with insights that I did not have before. When I take a bike ride, there better be a worthy destination at the end of the bike path. Jay seems frivolous at times. This worries me. However, it is my staunch belief that one does not make and keep money without having a modicum of discipline. As such, I am hopeful. I will now list three things I cannot live without. Water. Emery boards. Dogs. Thank you for the opportunity to introduce myself. I look forward to the competition.\"\n",
    "\n",
    "lily_trebuchet_intro=\"Hi, I'm Lily Trebuchet from East Egg, Long Island. I love cats, hiking, and curling up under a warm blanket with a book. So they gave this little questionnaire to use for our bios so lets get started. What are some of my least favorite household chores? Dishes, oh yes it's definitely the dishes, I just hate doing them, don't you? Who is your favorite actor and why? Hmm, that's a hard one, but I think recently I'll have to go with Michael B. Jordan, every bit of that man is handsome, HANDSOME! Do you remember seeing him shirtless? I can't believe what he does for the cameras! Okay okay next question, what is your perfect date? Well it starts with a nice dinner at a delicious but small restaurant, you know like one of those places where the owner is in the back and comes out to talk to you and ask you how your meal was. My favorite form of art? Another hard one, but I think I'll have to go with music, music you can feel in your whole body and it is electrifying and best of all, you can dance to it! Okay final question, let's see, What are three things you cannot live without? Well first off, my beautiful, beautiful cat Jerry, he is my heart and spirit animal. Second is pasta, definitely pasta, and the third I think is my family, I love all of them very much and they support me in everything I do. I know Jay Stacksby is a handsome man and all of us want to be the first to walk down the aisle with him, but I think he might truly be the one for me. Okay that's it for the bio, I hope you have fun watching the show!\"\n",
    "\n",
    "gregg_t_fishy_intro=\"A good day to you all, I am Gregg T Fishy, of the Fishy Enterprise fortune. I am 37 years young. An adventurous spirit and I've never lost my sense of childlike wonder. I do love to be in the backyard gardening and I have the most extraordinary time when I'm fishing. Fishing for what, you might ask? Why, fishing for compliments of course! I have a stunning pair of radiant blue eyes. They will pierce the soul of anyone who dare gaze upon my countenance. I quite enjoy going on long jaunts through garden paths and short walks through greenhouses. I hope that Jay will be as absolutely interesting as he appears on the television. I find that he has some of the most curious tastes in style and humor. When I'm out and about I quite enjoy hearing tales that instill in my heart of hearts the fascination that beguiles my every day life. Every fiber of my being scintillates and vascillates with extreme pleasure during one of these charming anecdotes and significantly pleases my beautiful personage. I cannot wait to enjoy being on A Brand New Jay. It certainly seems like a grand time to explore life and love.\""
   ]
  },
  {
   "cell_type": "markdown",
   "metadata": {},
   "source": [
    "## The First Indicator: Sentence Length\n",
    "\n",
    "Perhaps some meaningful data can first be gleaned from these text examples if we measure how long the average sentence length is. Different authors have different patterns of written speech, so this could be very useful in tracking down the killer.\n",
    "\n",
    "Write a function `get_average_sentence_length` that takes some `text` as an argument. This function should return the average length of a sentence in the text.\n",
    "\n",
    "Hint (highlight this hint in order to reveal it): \n",
    "<font color=\"white\">Use your knowledge of _string methods_ to create a list of all of the sentences in a text, called **sentences_in_text**. \n",
    "Further break up each **sentences_in_text** into a list of words and save the _length_ of that list of words to a new list that contains all the sentence lengths, called **sentence_lengths**. Take the average of all of the sentence lengths by adding them all together and dividing by the number of sentences (which should be the same as the length of the **sentence_lengths**).\n",
    "\n",
    "Remember sentences can end with more than one kind of punctuation, you might find it easiest to use **.replace()** so you only have to split on one punctuation mark. Remember **.replace()** doesn't modify the string itself, it returns a new string!</font>"
   ]
  },
  {
   "cell_type": "code",
   "execution_count": 113,
   "metadata": {},
   "outputs": [],
   "source": [
    "def get_average_sentence_length(text):\n",
    "    \n",
    "    #Unifying punctuation using \".\" & splitting the texts in sentences using the \".\". \n",
    "    sentences_in_text = text.replace(\"!\", \".\").replace(\"?\",\".\").split(\". \") \n",
    "    \n",
    "    #Splitting each sentence in words using balnk space. \n",
    "    words = []\n",
    "    for i in sentences_in_text:\n",
    "        words.append(i.split(\" \"))\n",
    "        \n",
    "    #Counting the length of the sentences using the number of words. \n",
    "    sentence_lengths = []\n",
    "    for i in words:\n",
    "        sentence_lengths.append(len(i))\n",
    "    \n",
    "    # Counting the average length (integer)\n",
    "    average_length = int(sum(sentence_lengths) / len(sentence_lengths)) \n",
    "    \n",
    "    return average_length\n",
    "    "
   ]
  },
  {
   "cell_type": "code",
   "execution_count": 114,
   "metadata": {},
   "outputs": [
    {
     "name": "stdout",
     "output_type": "stream",
     "text": [
      "22\n"
     ]
    }
   ],
   "source": [
    "#Checking intermediate calculations\n",
    "print(get_average_sentence_length(murder_note))"
   ]
  },
  {
   "cell_type": "markdown",
   "metadata": {},
   "source": [
    "## Creating The Definition for Our Model\n",
    "\n",
    "Now that we have a metric we want to save and data that is coupled with that metric, it might be time to create our data type. Let's define a class called `TextSample` with a constructor. The constructor should take two arguments: `text` and `author`. `text` should be saved as `self.raw_text`. Call `get_average_sentence_length` with the raw text and save it to `self.average_sentence_length`. You should save the author of the text as `self.author`.\n",
    "\n",
    "Additionally, define a string representation for the model. If you print a `TextSample` it should render:\n",
    " - The author's name\n",
    " - The average sentence length\n",
    " \n",
    "This will be your main class for the problem at hand. All later instruction to update `TextSample` should be done in the code block below. After updating `TextSample`, click on the `Cell` option in the Jupyter Notebook main menu above, then click `Run All` to rerun the cells from top to bottom. If you need to restart your Jupyter Notebook either run the cells below first or move the `TextSample` class definition & instantiation cells to the bottom."
   ]
  },
  {
   "cell_type": "code",
   "execution_count": 115,
   "metadata": {},
   "outputs": [],
   "source": [
    "class TextSample():\n",
    "    \n",
    "    def __init__(self, text, author):\n",
    "        self.raw_text = text\n",
    "        self.author = author\n",
    "        self.average_sentence_length = get_average_sentence_length(text)\n",
    "        self.prepared_text = prepare_text(text)\n",
    "        self.word_count_frequency = build_frequency_table(self.prepared_text)\n",
    "        self.ngram_frequency = build_frequency_table(ngram_creator(self.prepared_text))\n",
    "      \n",
    "\n",
    "    def __repr__(self):\n",
    "        return \"The average sentence length of {author} is {number} words\".format(author=self.author, number=self.average_sentence_length)"
   ]
  },
  {
   "cell_type": "markdown",
   "metadata": {},
   "source": [
    "### Creating our TextSample Instances\n",
    "\n",
    "Now create a `TextSample` object for each of the samples of text that we have.\n",
    " - `murderer_sample` for the murderer's note.\n",
    " - `lily_sample` for Lily Trebuchet's note.\n",
    " - `myrtle_sample` for Myrtle Beech's note.\n",
    " - `gregg_sample` for Gregg T Fishy's note.\n",
    " \n",
    "Print out each one after instantiating them."
   ]
  },
  {
   "cell_type": "code",
   "execution_count": 116,
   "metadata": {},
   "outputs": [
    {
     "name": "stdout",
     "output_type": "stream",
     "text": [
      "The average sentence length of the Murderer is 22 words\n",
      "The average sentence length of Lily Trebuchet is 6 words\n",
      "The average sentence length of Myrtle Beech is 15 words\n",
      "The average sentence length of Gregg T Fishy is 13 words\n"
     ]
    }
   ],
   "source": [
    "murderer_sample = TextSample(murder_note, 'the Murderer')\n",
    "lily_sample = TextSample(myrtle_beech_intro, 'Lily Trebuchet')\n",
    "myrtle_sample = TextSample(lily_trebuchet_intro, 'Myrtle Beech')\n",
    "gregg_sample = TextSample(gregg_t_fishy_intro, 'Gregg T Fishy')\n",
    "\n",
    "print (murderer_sample)\n",
    "print (lily_sample)\n",
    "print (myrtle_sample)\n",
    "print (gregg_sample)"
   ]
  },
  {
   "cell_type": "markdown",
   "metadata": {},
   "source": [
    "## Cleaning Our Data\n",
    "\n",
    "We want to compare the word choice and usage between the samples, but sentences make our text data fairly messy. In order to analyze the different messages fairly, we'll need to remove all the punctuation and uppercase letters from the samples.\n",
    "\n",
    "Create a function called `prepare_text` that takes a single parameter `text`, makes the text entirely lowercase, removes all the punctuation and returns a list of the words in the text in order.\n",
    "\n",
    "For example: `\"Where did you go, friend? We nearly saw each other.\"` would become `['where', 'did', 'you', 'go', 'friend', 'we', 'nearly', 'saw', 'each', 'other']`."
   ]
  },
  {
   "cell_type": "code",
   "execution_count": 117,
   "metadata": {},
   "outputs": [],
   "source": [
    "def prepare_text(text):\n",
    "    words_in_text=[]\n",
    "    #Unifying punctuation using & splitting the text in sentences using the blank space \" \"\n",
    "    words_in_text = text.replace(\"!\",\".\").replace(\"?\",\".\").replace(\".\",\"\").replace(\",\",\"\").replace(\"\\\"\",\"\").lower().split(\" \")\n",
    "    return words_in_text"
   ]
  },
  {
   "cell_type": "code",
   "execution_count": 118,
   "metadata": {},
   "outputs": [
    {
     "name": "stdout",
     "output_type": "stream",
     "text": [
      "['salutations', 'my', 'name', 'myrtle', 'myrtle', 'beech', 'i', 'am', 'a', 'woman', 'of', 'simple', 'tastes', 'i', 'enjoy', 'reading', 'thinking', 'and', 'doing', 'my', 'taxes', 'i', 'entered', 'this', 'competition', 'because', 'i', 'want', 'a', 'serious', 'relationship', 'i', 'want', 'a', 'commitment', 'the', 'last', 'man', 'i', 'dated', 'was', 'too', 'whimsical', 'he', 'wanted', 'to', 'go', 'on', 'dates', 'that', 'had', 'no', 'plan', 'no', 'end', 'goal', 'sometimes', 'we', 'would', 'just', 'end', 'up', 'wandering', 'the', 'streets', 'after', 'dinner', 'he', 'called', 'it', 'a', 'walk', 'a', 'walk', 'with', 'no', 'destination', 'can', 'you', 'imagine', 'i', 'like', 'every', 'action', 'i', 'take', 'to', 'have', 'a', 'measurable', 'effect', 'when', 'i', 'see', 'a', 'movie', 'i', 'like', 'to', 'walk', 'away', 'with', 'insights', 'that', 'i', 'did', 'not', 'have', 'before', 'when', 'i', 'take', 'a', 'bike', 'ride', 'there', 'better', 'be', 'a', 'worthy', 'destination', 'at', 'the', 'end', 'of', 'the', 'bike', 'path', 'jay', 'seems', 'frivolous', 'at', 'times', 'this', 'worries', 'me', 'however', 'it', 'is', 'my', 'staunch', 'belief', 'that', 'one', 'does', 'not', 'make', 'and', 'keep', 'money', 'without', 'having', 'a', 'modicum', 'of', 'discipline', 'as', 'such', 'i', 'am', 'hopeful', 'i', 'will', 'now', 'list', 'three', 'things', 'i', 'cannot', 'live', 'without', 'water', 'emery', 'boards', 'dogs', 'thank', 'you', 'for', 'the', 'opportunity', 'to', 'introduce', 'myself', 'i', 'look', 'forward', 'to', 'the', 'competition']\n"
     ]
    }
   ],
   "source": [
    "#Checking intermediate calculations\n",
    "print(prepare_text(myrtle_beech_intro))"
   ]
  },
  {
   "cell_type": "markdown",
   "metadata": {},
   "source": [
    "Update the constructor for `TextSample` to save the prepared text as `self.prepared_text`."
   ]
  },
  {
   "cell_type": "markdown",
   "metadata": {},
   "source": [
    "## Building A Frequency Table\n",
    "\n",
    "Now we want to see which words were most frequently used in each of the samples. Create a function called `build_frequency_table`. It takes in a list called `corpus` and creates a dictionary called `frequency_table`. For every element in `corpus` the value `frequency_table[element]` should be equal to the number of times that element appears in `corpus`. For example the input `['do', 'you', 'see', 'what', 'i', 'see']` would create the frequency table `{'what': 1, 'you': 1, 'see' 2, 'i': 1}`."
   ]
  },
  {
   "cell_type": "code",
   "execution_count": 119,
   "metadata": {},
   "outputs": [],
   "source": [
    "def build_frequency_table(corpus):\n",
    "    frequency_table = {}\n",
    "    for i in corpus:\n",
    "        frequency_table[i] = corpus.count(i)\n",
    "    return frequency_table"
   ]
  },
  {
   "cell_type": "code",
   "execution_count": 120,
   "metadata": {},
   "outputs": [
    {
     "name": "stdout",
     "output_type": "stream",
     "text": [
      "{'salutations': 1, 'my': 3, 'name': 1, 'myrtle': 2, 'beech': 1, 'i': 16, 'am': 2, 'a': 10, 'woman': 1, 'of': 3, 'simple': 1, 'tastes': 1, 'enjoy': 1, 'reading': 1, 'thinking': 1, 'and': 2, 'doing': 1, 'taxes': 1, 'entered': 1, 'this': 2, 'competition': 2, 'because': 1, 'want': 2, 'serious': 1, 'relationship': 1, 'commitment': 1, 'the': 6, 'last': 1, 'man': 1, 'dated': 1, 'was': 1, 'too': 1, 'whimsical': 1, 'he': 2, 'wanted': 1, 'to': 5, 'go': 1, 'on': 1, 'dates': 1, 'that': 3, 'had': 1, 'no': 3, 'plan': 1, 'end': 3, 'goal': 1, 'sometimes': 1, 'we': 1, 'would': 1, 'just': 1, 'up': 1, 'wandering': 1, 'streets': 1, 'after': 1, 'dinner': 1, 'called': 1, 'it': 2, 'walk': 3, 'with': 2, 'destination': 2, 'can': 1, 'you': 2, 'imagine': 1, 'like': 2, 'every': 1, 'action': 1, 'take': 2, 'have': 2, 'measurable': 1, 'effect': 1, 'when': 2, 'see': 1, 'movie': 1, 'away': 1, 'insights': 1, 'did': 1, 'not': 2, 'before': 1, 'bike': 2, 'ride': 1, 'there': 1, 'better': 1, 'be': 1, 'worthy': 1, 'at': 2, 'path': 1, 'jay': 1, 'seems': 1, 'frivolous': 1, 'times': 1, 'worries': 1, 'me': 1, 'however': 1, 'is': 1, 'staunch': 1, 'belief': 1, 'one': 1, 'does': 1, 'make': 1, 'keep': 1, 'money': 1, 'without': 2, 'having': 1, 'modicum': 1, 'discipline': 1, 'as': 1, 'such': 1, 'hopeful': 1, 'will': 1, 'now': 1, 'list': 1, 'three': 1, 'things': 1, 'cannot': 1, 'live': 1, 'water': 1, 'emery': 1, 'boards': 1, 'dogs': 1, 'thank': 1, 'for': 1, 'opportunity': 1, 'introduce': 1, 'myself': 1, 'look': 1, 'forward': 1}\n"
     ]
    }
   ],
   "source": [
    "#Checking intermediate calculations\n",
    "print(build_frequency_table(prepare_text(myrtle_beech_intro)))"
   ]
  },
  {
   "cell_type": "markdown",
   "metadata": {},
   "source": [
    "## The Second Indicator: Favorite Words\n",
    "\n",
    "Use `build_frequency_table` with the prepared text to create a frequency table that counts how frequently all the words in each text sample appears. Call these functions in the constructor for `TextSample` and assign the word frequency table to a value called `self.word_count_frequency`."
   ]
  },
  {
   "cell_type": "markdown",
   "metadata": {},
   "source": [
    "## The Third Indicator: N-Grams\n",
    "\n",
    "An <a href='https://en.wikipedia.org/wiki/N-gram' target=\"_blank\">n-gram</a> is a text analysis technique used for pattern recognition and applicable throughout lingusitics. We're going to use n-grams to find who uses similar word-pairs to the murderer, and we think it's going to make our evidence strong enough to conclusively find the killer.\n",
    "\n",
    "Create a function called `ngram_creator` that takes a parameter `text_list`, a treated in-order list of the words in a text sample. `ngram_creator` should return a list of all adjacent pairs of words, styled as strings with a space in the center.\n",
    "\n",
    "For instance, calling `ngram_creator` with the input `['what', 'in', 'the', 'world', 'is', 'going', 'on']`\n",
    "Should produce the output `['what in', 'in the', 'the world', 'world is', 'is going', 'going on']`.\n",
    "\n",
    "These are two-word n-grams."
   ]
  },
  {
   "cell_type": "code",
   "execution_count": 121,
   "metadata": {},
   "outputs": [],
   "source": [
    "def ngram_creator(text_list):\n",
    "    ngram = []\n",
    "    for i in range(0, len(text_list) - 1): \n",
    "        ngram.append(text_list[i] + \" \" + text_list[i+1])\n",
    "    return ngram"
   ]
  },
  {
   "cell_type": "code",
   "execution_count": 122,
   "metadata": {},
   "outputs": [
    {
     "name": "stdout",
     "output_type": "stream",
     "text": [
      "{'you may': 1, 'may call': 1, 'call me': 1, 'me heartless': 1, 'heartless a': 1, 'a killer': 1, 'killer a': 1, 'a monster': 1, 'monster a': 1, 'a murderer': 1, 'murderer but': 1, \"but i'm\": 1, \"i'm still\": 1, 'still nothing': 1, 'nothing compared': 1, 'compared to': 1, 'to the': 1, 'the villian': 1, 'villian that': 1, 'that jay': 1, 'jay was': 1, 'was this': 1, 'this whole': 1, 'whole contest': 1, 'contest was': 1, 'was a': 3, 'a sham': 1, 'sham an': 1, 'an elaborate': 1, 'elaborate plot': 1, 'plot to': 1, 'to shame': 1, 'shame the': 1, 'the contestants': 1, 'contestants and': 1, 'and feed': 1, \"feed jay's\": 1, \"jay's massive\": 1, 'massive massive': 1, 'massive ego': 1, 'ego sure': 1, 'sure you': 1, 'you think': 1, 'think you': 1, 'you know': 2, 'know him': 1, \"him you've\": 1, \"you've seen\": 1, 'seen him': 1, 'him smiling': 1, 'smiling for': 1, 'for the': 1, 'the cameras': 1, 'cameras laughing': 1, 'laughing joking': 1, 'joking telling': 1, 'telling stories': 1, 'stories waving': 1, 'waving his': 1, 'his money': 1, 'money around': 1, 'around like': 1, 'like a': 1, 'a prop': 1, 'prop but': 1, 'but off': 1, 'off camera': 1, 'camera he': 1, 'he was': 3, 'a sinister': 1, 'sinister beast': 1, 'beast a': 1, 'a cruel': 1, 'cruel cruel': 1, 'cruel taskmaster': 1, 'taskmaster he': 1, 'he treated': 1, 'treated all': 1, 'all of': 2, 'of us': 4, 'us like': 1, 'like slaves': 1, 'slaves like': 1, 'like cattle': 1, 'cattle like': 1, 'like animals': 1, 'animals do': 1, 'do you': 1, 'you remember': 1, 'remember lindsay': 1, 'lindsay she': 1, 'she was': 1, 'was the': 1, 'the first': 1, 'first to': 1, 'to go': 1, 'go he': 1, 'he called': 1, 'called her': 1, 'her such': 1, 'such horrible': 1, 'horrible things': 1, 'things that': 1, 'that she': 1, 'she cried': 1, 'cried all': 1, 'all night': 1, 'night keeping': 1, 'keeping up': 1, 'up all': 1, 'all up': 1, 'up crying': 1, 'crying crying': 1, 'crying and': 1, 'and more': 1, 'more crying': 1, 'crying he': 1, 'he broke': 1, 'broke her': 1, 'her with': 1, 'with his': 2, 'his words': 1, 'words i': 1, 'i miss': 1, 'miss my': 1, 'my former': 1, 'former cast': 1, 'cast members': 1, 'members all': 1, 'of them': 1, 'them very': 1, 'very much': 1, 'much and': 1, 'and we': 1, 'we had': 1, 'had to': 1, 'to live': 1, 'live with': 1, 'with him': 1, 'him live': 1, 'live in': 2, 'in his': 2, 'his home': 1, 'home live': 1, 'his power': 1, 'power deal': 1, 'deal with': 1, 'his crazy': 1, 'crazy demands': 1, 'demands and': 1, 'and for': 1, 'for what': 1, 'what did': 1, 'did you': 1, 'know that': 1, 'that the': 1, 'the prize': 1, \"prize isn't\": 1, \"isn't real\": 1, 'real he': 1, 'he never': 1, 'never intended': 1, 'intended to': 1, 'to marry': 1, 'marry one': 1, 'one of': 1, 'us the': 1, 'the carrot': 1, 'carrot on': 1, 'on the': 1, 'the stick': 1, 'stick was': 1, 'was gone': 1, 'gone all': 1, 'all that': 1, 'that was': 1, 'was left': 1, 'left was': 1, 'was stick': 1, 'stick he': 1, 'he told': 1, 'told us': 1, 'us last': 1, 'last night': 1, 'night that': 1, 'that we': 1, 'we were': 1, 'were all': 1, 'all a': 1, 'a terrible': 1, 'terrible terrible': 1, 'terrible disappointment': 1, 'disappointment and': 1, 'and none': 1, 'none of': 1, 'us would': 1, 'would ever': 1, 'ever amount': 1, 'amount to': 1, 'to anything': 1, 'anything and': 1, 'and that': 1, 'that regardless': 1, 'regardless of': 1, 'of who': 1, 'who won': 1, 'won the': 1, 'the contest': 1, 'contest he': 1, 'he would': 1, 'would never': 1, 'never speak': 1, 'speak to': 1, 'to any': 1, 'any of': 1, 'us again': 1, \"again it's\": 1, \"it's definitely\": 1, 'definitely the': 1, 'the things': 1, 'things like': 1, 'like this': 1, 'this you': 1, 'you can': 1, 'can feel': 1, 'feel in': 1, 'in your': 1, 'your gut': 1, 'gut how': 1, 'how wrong': 1, 'wrong he': 1, 'he is': 1, 'is well': 1, 'well i': 1, 'i showed': 3, 'showed him': 3, 'him he': 1, 'he got': 2, 'got what': 1, 'what he': 2, 'he deserved': 1, 'deserved all': 1, 'all right': 1, 'right i': 1, 'him i': 1, 'him the': 1, 'the person': 1, 'person i': 1, 'i am': 1, 'am i': 1, \"i wasn't\": 2, \"wasn't going\": 2, 'going to': 2, 'to be': 1, 'be pushed': 1, 'pushed around': 1, 'around any': 1, 'any longer': 1, 'longer and': 1, 'and i': 1, 'to let': 1, 'let him': 1, 'him go': 1, 'go on': 1, 'on pretending': 1, 'pretending that': 1, 'that he': 1, 'was some': 1, 'some saint': 1, 'saint when': 1, 'when all': 1, 'all he': 1, 'was was': 1, 'a sick': 1, 'sick sick': 1, 'sick twisted': 1, 'twisted man': 1, 'man who': 1, 'who deserved': 1, 'deserved every': 1, 'every bit': 1, 'bit of': 1, 'of what': 1, 'got the': 1, 'the fans': 1, 'fans need': 1, 'need to': 1, 'to know': 1, 'know jay': 1, 'jay stacksby': 1, 'stacksby is': 1, 'is a': 2, 'a vile': 1, 'vile amalgamation': 1, 'amalgamation of': 1, 'of all': 1, 'all things': 1, 'things evil': 1, 'evil and': 1, 'and bad': 1, 'bad and': 1, 'and the': 1, 'the world': 1, 'world is': 1, 'a better': 1, 'better place': 1, 'place without': 1, 'without him': 1}\n"
     ]
    }
   ],
   "source": [
    "#Checking intermediate calculations\n",
    "print(build_frequency_table(ngram_creator(prepare_text(murder_note))))"
   ]
  },
  {
   "cell_type": "markdown",
   "metadata": {},
   "source": [
    "Use `ngram_creator` along with the prepared text to create a list of all the two-word ngrams in each `TextSample`. Use `build_frequency_table` to tabulate the frequency of each ngram. In the constructor for `TextSample` save this frequency table as `self.ngram_frequency`."
   ]
  },
  {
   "cell_type": "markdown",
   "metadata": {},
   "source": [
    "## Comparing Two Frequency Tables\n",
    "\n",
    "We want to know how similar two frequency tables are, let's write a function that computes the comparison between two frequency tables and scores them based on similarity.\n",
    "\n",
    "Write a function called `frequency_comparison` that takes two parameters, `table1` and `table2`. It should define two local variables, `appearances` and `mutual_appearances`. \n",
    "\n",
    "Iterate through `table1`'s keys and check if `table2` has the same key defined. If it is, compare the two values for the key -- the smaller value should get added to `mutual_appearances` and the larger should get added to `appearances`. If the key doesn't exist in `table2` the value for the key in `table1` should be added to `appearances`.\n",
    "\n",
    "Remember afterwards to iterate through all of `table2`'s keys that aren't in `table1` and add those to `appearances` as well.\n",
    "\n",
    "Return a frequency comparison score equal to the mutual appearances divided by the total appearances."
   ]
  },
  {
   "cell_type": "code",
   "execution_count": 132,
   "metadata": {},
   "outputs": [],
   "source": [
    "def frequency_comparison(table1, table2):\n",
    "    appearances = 0\n",
    "    mutual_appearances = 0\n",
    "    \n",
    "    for key in table1:\n",
    "        if key in table2:\n",
    "            mutual_appearances += min(table1[key], table2[key])\n",
    "            appearances += max(table1[key], table2[key])\n",
    "        else:\n",
    "            appearances += table1[key]\n",
    "    \n",
    "    for key in table2:\n",
    "        if key not in table1:\n",
    "            appearances += table2[key]\n",
    "    \n",
    "    frequency_score = mutual_appearances / appearances \n",
    "    \n",
    "    return frequency_score"
   ]
  },
  {
   "cell_type": "code",
   "execution_count": 133,
   "metadata": {},
   "outputs": [
    {
     "name": "stdout",
     "output_type": "stream",
     "text": [
      "0.01171875\n"
     ]
    }
   ],
   "source": [
    "#Checking intermediate calculations\n",
    "table1=build_frequency_table(ngram_creator(prepare_text(murder_note)))\n",
    "table2=build_frequency_table(ngram_creator(prepare_text(myrtle_beech_intro)))\n",
    "print(frequency_comparison(table1, table2))"
   ]
  },
  {
   "cell_type": "markdown",
   "metadata": {},
   "source": [
    "## Comparing Average Sentence Length\n",
    "\n",
    "In order to calculate the change between the average sentence lengths of two `TextSamples` we're going to use the formula for the percent difference.\n",
    "\n",
    "Write a function called `percent_difference` that returns the percent difference as calculated from the following formula:\n",
    "\n",
    "$$\\frac{|\\ value1 - value2\\ |}{\\frac{value1 + value2}{2}}$$\n",
    "\n",
    "In the numerator is the absolute value (use `abs()`) of the two values subtracted from each other. In the denominator is the average of the two values (value1 + value2 divided by two)."
   ]
  },
  {
   "cell_type": "code",
   "execution_count": 125,
   "metadata": {},
   "outputs": [],
   "source": [
    "def percent_difference(value1, value2):\n",
    "    return abs(value1 - value2) / ((value1 + value2) / 2)"
   ]
  },
  {
   "cell_type": "markdown",
   "metadata": {},
   "source": [
    "## Scoring Similarity with All Three Indicators\n",
    "\n",
    "We want to figure out who did it, so let's use all three of the indicators we built to score text similarity. Define a function `find_text_similarity` that takes two `TextSample` arguments and returns a float between 0 and 1 where 0 means completely different and 1 means the same exact sample. You can evaluate the similarity by the following criteria:\n",
    "\n",
    "- Calculate the percent difference of their average sentence length using `percent_difference`. Save that into a variable called `sentence_length_difference`. Since we want to find how _similar_ the two passages are calculate the inverse of `sentence_length_difference` by using the formula `abs(1 - sentence_length_difference)`. Save that into a variable called `sentence_length_similarity`.\n",
    "- Calculate the difference between their word usage using `frequency_comparison` on both `TextSample`'s `word_count_frequency` attributes. Save that into a variable called `word_count_similarity`.\n",
    "- Calculate the difference between their two-word ngram using `frequency_table` on both `TextSample`'s `ngram_frequency` attributes. Save that into a variable called `ngram_similarity`.\n",
    "- Add all three similarities together and divide by 3."
   ]
  },
  {
   "cell_type": "code",
   "execution_count": 135,
   "metadata": {},
   "outputs": [],
   "source": [
    "def find_text_similarity(TextSample1, TextSample2):\n",
    "    \n",
    "    #Calculate the percent difference of the average sentence lengths:\n",
    "    sentence_length_difference = percent_difference(TextSample1.average_sentence_length, TextSample2.average_sentence_length)\n",
    "    sentence_length_similarity = abs(1 - sentence_length_difference)\n",
    "    \n",
    "    #Calculate the difference between word usage:\n",
    "    word_count_similarity = frequency_comparison(TextSample1.word_count_frequency, TextSample2.word_count_frequency)\n",
    "    \n",
    "    #Calculate the difference between two-word ngrams:\n",
    "    ngram_similarity = frequency_comparison(TextSample1.ngram_frequency, TextSample2.ngram_frequency)\n",
    "    \n",
    "    #Return similarity_score, rounded up to the 4th digit:\n",
    "    score = round ((sentence_length_similarity + word_count_similarity + ngram_similarity) / 3, 4)\n",
    "    \n",
    "    return score  "
   ]
  },
  {
   "cell_type": "markdown",
   "metadata": {},
   "source": [
    "## Rendering the Results\n",
    "\n",
    "We want to print out the results in a way that we can read! For each contestant on _A Brand New Jay_ print out the following:\n",
    "\n",
    "- Their name\n",
    "- Their similarity score to the murder letter"
   ]
  },
  {
   "cell_type": "code",
   "execution_count": 138,
   "metadata": {
    "scrolled": false
   },
   "outputs": [
    {
     "name": "stdout",
     "output_type": "stream",
     "text": [
      "Lily Trebuchet: Similarity to the murder's letter is 0.1068\n",
      "Myrtle Beech: Similarity to the murder's letter is 0.3035\n",
      "Gregg T Fishy: Similarity to the murder's letter is 0.2197\n"
     ]
    }
   ],
   "source": [
    "suspects = [lily_sample, myrtle_sample, gregg_sample]\n",
    "for i in suspects:\n",
    "    print (\"{suspect}: Similarity to the murder's letter is {score}\".format(suspect = i.author, score = find_text_similarity(murderer_sample, i)))\n"
   ]
  },
  {
   "cell_type": "markdown",
   "metadata": {},
   "source": [
    "# Who Dunnit?\n",
    "\n",
    "In the cell below, print the name of the person who killed Jay Stacksby."
   ]
  },
  {
   "cell_type": "code",
   "execution_count": 139,
   "metadata": {},
   "outputs": [
    {
     "name": "stdout",
     "output_type": "stream",
     "text": [
      "The murderer is Myrtle Beech with the similarity score of 0.3035\n"
     ]
    }
   ],
   "source": [
    "#Continue using the suspects list defined above\n",
    "score = 0\n",
    "murderer = \"\"\n",
    "for i in suspects:\n",
    "    if score < find_text_similarity(murderer_sample, i):\n",
    "        murderer = i.author\n",
    "        score = find_text_similarity(murderer_sample, i)\n",
    "\n",
    "print (\"The murderer is {suspect} with the similarity score of {score}\".format(suspect=murderer, score=score))"
   ]
  },
  {
   "cell_type": "code",
   "execution_count": null,
   "metadata": {},
   "outputs": [],
   "source": []
  }
 ],
 "metadata": {
  "kernelspec": {
   "display_name": "Python 3",
   "language": "python",
   "name": "python3"
  },
  "language_info": {
   "codemirror_mode": {
    "name": "ipython",
    "version": 3
   },
   "file_extension": ".py",
   "mimetype": "text/x-python",
   "name": "python",
   "nbconvert_exporter": "python",
   "pygments_lexer": "ipython3",
   "version": "3.7.0"
  }
 },
 "nbformat": 4,
 "nbformat_minor": 2
}
